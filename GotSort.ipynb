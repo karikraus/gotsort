{
 "cells": [
  {
   "cell_type": "markdown",
   "metadata": {},
   "source": [
    "\"Gotsort\" is a short Python 3 program created by BookLab at the University of Maryland. It's primarily intended for students, instructors, and printers working at small letterpress shops with limited collections of type. \n",
    "\n",
    "The program takes as input the text you'd like to print and then calculates how many \"sorts\" (individual pieces of metal type) you need for each letter, numeral, or punctuation mark in order to complete your printing job. The results are displayed in alphabetical order, with punctuation marks, numbers, uppercase letters and then lowercase letters. \n",
    "\n",
    "GotSort was written by Kari Kraus. Because we're more proficient at printing than programming at BookLab, we first reviewed the excellent tutorial on Python dictionaries created by Dr. Severance at the the University of Michigan for his online \"Python for Everybody\" course, which you can find here: https://www.py4e.com/lessons. \n",
    "\n",
    "To run the GotSort program, first select the cell below and then enter Shift + Return at the same time. This should present you with a new cell. Type \"gotsort()\" in that new cell (minus the quotation marks) and then enter the same Shift + Return command. You should at that point be prompted to enter your text, which you can type or paste in. Press normal \"Return\" after you've finished to view your GotSort results. (NB: If for some reason Jupyter Notebook isn't responding to your commands, select the GotSort cell again, then choose \"Restart\" from the \"Kernel\" pulldown menu at the top of the notebook page. At that point you can revert back to the original instructions.)\n",
    "\n",
    "Please report any problems to booklab@umd.edu. And let us know if you have ideas for additional computer programs that can facilitate and support the book arts. "
   ]
  },
  {
   "cell_type": "code",
   "execution_count": 5,
   "metadata": {},
   "outputs": [],
   "source": [
    "def gotsort():\n",
    "    text = input('Please provide your text:')\n",
    "    sorts = dict()\n",
    "    for character in text:\n",
    "        if character == ' ': continue\n",
    "        if character not in sorts:\n",
    "            sorts[character] = 1\n",
    "        else:\n",
    "            sorts[character] = sorts[character] + 1\n",
    "    for character in sorted (sorts):\n",
    "        print (character, sorts[character])"
   ]
  }
 ],
 "metadata": {
  "kernelspec": {
   "display_name": "Python 3",
   "language": "python",
   "name": "python3"
  },
  "language_info": {
   "codemirror_mode": {
    "name": "ipython",
    "version": 3
   },
   "file_extension": ".py",
   "mimetype": "text/x-python",
   "name": "python",
   "nbconvert_exporter": "python",
   "pygments_lexer": "ipython3",
   "version": "3.7.2"
  }
 },
 "nbformat": 4,
 "nbformat_minor": 2
}
